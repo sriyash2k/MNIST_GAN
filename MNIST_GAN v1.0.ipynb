{
 "cells": [
  {
   "cell_type": "code",
   "execution_count": null,
   "metadata": {},
   "outputs": [],
   "source": [
    "from keras.datasets import mnist\n",
    "from keras.layers import *\n",
    "from keras.layers.advanced_activations import LeakyReLU\n",
    "from keras.models import Sequential,Model\n",
    "from keras.optimizers import adam\n",
    "import numpy as np\n",
    "import math\n",
    "import matplotlib.pyplot as plt"
   ]
  },
  {
   "cell_type": "code",
   "execution_count": null,
   "metadata": {},
   "outputs": [],
   "source": [
    "(x_train,_),(_,_)=mnist.load_data()"
   ]
  },
  {
   "cell_type": "code",
   "execution_count": null,
   "metadata": {},
   "outputs": [],
   "source": [
    "print(x_train.shape) \n",
    "x_train=x_train.reshape((*x_train.shape,1))"
   ]
  },
  {
   "cell_type": "code",
   "execution_count": null,
   "metadata": {},
   "outputs": [],
   "source": [
    "plt.imshow(x_train[0],cmap='gray')"
   ]
  },
  {
   "cell_type": "code",
   "execution_count": null,
   "metadata": {},
   "outputs": [],
   "source": [
    "x_train=(x_train.astype('float32')-127.5)/127.5 \n",
    "print(np.min(x_train))\n",
    "print(np.max(x_train))"
   ]
  },
  {
   "cell_type": "code",
   "execution_count": null,
   "metadata": {},
   "outputs": [],
   "source": [
    "total_epochs=50\n",
    "batch_size=256\n",
    "no_of_batches=int(x_train.shape[0]/batch_size)\n",
    "half_batch=int(batch_size/2)\n",
    "noise_dim=100\n",
    "adam=adam(lr=2e-4,beta_1=0.5)"
   ]
  },
  {
   "cell_type": "code",
   "execution_count": null,
   "metadata": {},
   "outputs": [],
   "source": [
    "generator=Sequential()\n",
    "generator.add(Dense(256,input_shape=(noise_dim,))) \n",
    "generator.add(LeakyReLU(0.2))\n",
    "generator.add(Dense(512)) \n",
    "generator.add(LeakyReLU(0.2))\n",
    "generator.add(Dense(1024))\n",
    "generator.add(LeakyReLU(0.2))\n",
    "generator.add(Dense(784,activation='tanh'))\n",
    "generator.compile(loss='binary_crossentropy',optimizer='adam')"
   ]
  },
  {
   "cell_type": "code",
   "execution_count": null,
   "metadata": {},
   "outputs": [],
   "source": [
    "discriminator=Sequential()\n",
    "discriminator.add(Dense(512,input_shape=(784,)))\n",
    "discriminator.add(LeakyReLU(0.2))\n",
    "discriminator.add(Dense(256))\n",
    "discriminator.add(LeakyReLU(0.2))\n",
    "discriminator.add(Dense(1,activation='sigmoid'))\n",
    "discriminator.compile(loss='binary_crossentropy',optimizer='adam')"
   ]
  },
  {
   "cell_type": "code",
   "execution_count": null,
   "metadata": {},
   "outputs": [],
   "source": [
    "discriminator.trainable=False\n",
    "gan_input=Input(shape=(noise_dim,)) \n",
    "generated_img=generator(gan_input) \n",
    "gan_output=discriminator(generated_img)\n",
    "\n",
    "model=Model(gan_input,gan_output) \n",
    "\n",
    "\n",
    "model.compile(loss='binary_crossentropy',optimizer='adam')"
   ]
  },
  {
   "cell_type": "code",
   "execution_count": null,
   "metadata": {},
   "outputs": [],
   "source": [
    "x_train=x_train.reshape(-1,784)"
   ]
  },
  {
   "cell_type": "code",
   "execution_count": null,
   "metadata": {},
   "outputs": [],
   "source": [
    "def save_images(epoch,samples):\n",
    "  noise=np.random.normal(0,1,size=(samples,noise_dim))\n",
    "  generated_imgs=generator.predict(noise)\n",
    "  generated_imgs=generated_imgs.reshape(samples,28,28)\n",
    "  plt.figure(figsize=(10,10))\n",
    "  for i in range(samples):\n",
    "    plt.subplot(10,10,i+1) \n",
    "    plt.imshow(generated_imgs[i],interpolation='nearest',cmap='gray')\n",
    "    plt.axis(\"off\")\n",
    "  plt.tight_layout()\n",
    "  plt.savefig('images/gan_output_epoch_{0}.png'.format(epoch+1))\n",
    "  plt.show()"
   ]
  },
  {
   "cell_type": "code",
   "execution_count": null,
   "metadata": {},
   "outputs": [],
   "source": [
    "!mkdir images\n",
    "!mkdir models\n",
    "!ls"
   ]
  },
  {
   "cell_type": "code",
   "execution_count": null,
   "metadata": {},
   "outputs": [],
   "source": [
    "d_losses=[]\n",
    "g_losses=[]\n",
    "for e in range(total_epochs):\n",
    "  epoch_d_loss=0.0 \n",
    "  epoch_g_loss=0.0 \n",
    "  for step in range(no_of_batches):\n",
    "    idx=np.random.randint(0,x_train.shape[0],half_batch)\n",
    "    real_imgs=x_train[idx]\n",
    "    noise=np.random.normal(0,1,size=(half_batch,noise_dim))  \n",
    "    fake_imgs=generator.predict(noise)\n",
    "    real_y=np.ones((half_batch,1))*0.9\n",
    "    fake_y=np.zeros((half_batch,1))\n",
    "    d_loss_real=discriminator.train_on_batch(real_imgs,real_y)\n",
    "    d_loss_fake=discriminator.train_on_batch(fake_imgs,fake_y)\n",
    "    d_loss=(0.5*d_loss_real)+(0.5*d_loss_fake)\n",
    "    epoch_d_loss+=d_loss\n",
    "    noise=np.random.normal(0,1,size=(batch_size,noise_dim))\n",
    "    ground_truth_y=np.ones((batch_size,1))\n",
    "    g_loss=model.train_on_batch(noise,ground_truth_y)\n",
    "    epoch_g_loss=g_loss    \n",
    "  print(\"Epoch %d\\nDiscriminator loss %.4f\\nGenerator Loss %.4f\"%(e+1,epoch_d_loss/no_of_batches,epoch_d_loss/no_of_batches))\n",
    "  d_losses.append(epoch_d_loss/no_of_batches)\n",
    "  g_losses.append(epoch_g_loss/no_of_batches)\n",
    "  if (e+1)%5==0:\n",
    "    generator.save('models/gan_generator_{0}.h5'.format(e+1)) \n",
    "    save_images(e,100)"
   ]
  },
  {
   "cell_type": "code",
   "execution_count": null,
   "metadata": {},
   "outputs": [],
   "source": [
    "plt.plot(d_losses,label=\"Discriminator\")\n",
    "plt.plot(g_losses,label=\"Generator\")\n",
    "plt.legend()\n",
    "plt.show()"
   ]
  },
  {
   "cell_type": "code",
   "execution_count": null,
   "metadata": {},
   "outputs": [],
   "source": [
    "!zip -r /content/images.zip /content/images"
   ]
  },
  {
   "cell_type": "code",
   "execution_count": null,
   "metadata": {},
   "outputs": [],
   "source": [
    "from google.colab import files\n",
    "files.download('images.zip')"
   ]
  }
 ],
 "metadata": {
  "kernelspec": {
   "display_name": "Python 3",
   "language": "python",
   "name": "python3"
  },
  "language_info": {
   "codemirror_mode": {
    "name": "ipython",
    "version": 3
   },
   "file_extension": ".py",
   "mimetype": "text/x-python",
   "name": "python",
   "nbconvert_exporter": "python",
   "pygments_lexer": "ipython3",
   "version": "3.6.9"
  }
 },
 "nbformat": 4,
 "nbformat_minor": 4
}
